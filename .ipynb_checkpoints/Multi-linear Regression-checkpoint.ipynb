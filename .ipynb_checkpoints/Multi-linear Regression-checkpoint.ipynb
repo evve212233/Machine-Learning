{
 "cells": [
  {
   "cell_type": "markdown",
   "metadata": {},
   "source": [
    "# Multiple Linear Regression for Airbnb Data\n",
    "\n",
    "In the second part, we will illustrate the use of multiple linear regression for finding the effect of important factors affecting the sale of Airbnb hosting.\n",
    "The data for the  is taken generously from Kaggle's [New York City Airbnb Open Data](https://www.kaggle.com/dgomonov/new-york-city-airbnb-open-data).\n",
    "For the second part, we will focus on the task of predicting the popularity of airbnb listing, which is indicated by the number of reviews from the dataset:\n",
    "\n",
    "<img src=\"airbnb.png\" height=\"300\" width=\"300\">\n",
    "\n",
    "\n",
    "The factors we will be taking into considerations for the second part are: neighbourhood_group, neighbourhood, latitude, longitude, room_type, price, minimum_nights, availability_365."
   ]
  },
  {
   "cell_type": "code",
   "execution_count": 2,
   "metadata": {},
   "outputs": [],
   "source": [
    "import pandas as pd\n",
    "import numpy as np\n",
    "import matplotlib\n",
    "import matplotlib.pyplot as plt\n",
    "%matplotlib inline\n",
    "from sklearn import preprocessing\n",
    "from sklearn.metrics.pairwise import pairwise_kernels\n",
    "import scipy\n",
    "from sklearn import svm, linear_model\n",
    "from sklearn.model_selection import GridSearchCV\n",
    "import time"
   ]
  },
  {
   "cell_type": "code",
   "execution_count": 7,
   "metadata": {},
   "outputs": [
    {
     "name": "stderr",
     "output_type": "stream",
     "text": [
      "C:\\Users\\zzw_e\\Anaconda3\\lib\\site-packages\\IPython\\core\\interactiveshell.py:2785: DtypeWarning: Columns (0,2,6,7,9,10,11,13,14,15) have mixed types. Specify dtype option on import or set low_memory=False.\n",
      "  interactivity=interactivity, compiler=compiler, result=result)\n"
     ]
    },
    {
     "data": {
      "text/html": [
       "<div>\n",
       "<style scoped>\n",
       "    .dataframe tbody tr th:only-of-type {\n",
       "        vertical-align: middle;\n",
       "    }\n",
       "\n",
       "    .dataframe tbody tr th {\n",
       "        vertical-align: top;\n",
       "    }\n",
       "\n",
       "    .dataframe thead th {\n",
       "        text-align: right;\n",
       "    }\n",
       "</style>\n",
       "<table border=\"1\" class=\"dataframe\">\n",
       "  <thead>\n",
       "    <tr style=\"text-align: right;\">\n",
       "      <th></th>\n",
       "      <th>id</th>\n",
       "      <th>name</th>\n",
       "      <th>host_id</th>\n",
       "      <th>host_name</th>\n",
       "      <th>neighbourhood_group</th>\n",
       "      <th>neighbourhood</th>\n",
       "      <th>latitude</th>\n",
       "      <th>longitude</th>\n",
       "      <th>room_type</th>\n",
       "      <th>price</th>\n",
       "      <th>minimum_nights</th>\n",
       "      <th>number_of_reviews</th>\n",
       "      <th>last_review</th>\n",
       "      <th>reviews_per_month</th>\n",
       "      <th>calculated_host_listings_count</th>\n",
       "      <th>availability_365</th>\n",
       "    </tr>\n",
       "  </thead>\n",
       "  <tbody>\n",
       "    <tr>\n",
       "      <th>1</th>\n",
       "      <td>2539</td>\n",
       "      <td>Clean &amp; quiet apt home by the park</td>\n",
       "      <td>2787</td>\n",
       "      <td>John</td>\n",
       "      <td>Brooklyn</td>\n",
       "      <td>Kensington</td>\n",
       "      <td>40.64749</td>\n",
       "      <td>-73.97237</td>\n",
       "      <td>Private room</td>\n",
       "      <td>149</td>\n",
       "      <td>1</td>\n",
       "      <td>9</td>\n",
       "      <td>2018-10-19</td>\n",
       "      <td>0.21</td>\n",
       "      <td>6</td>\n",
       "      <td>365</td>\n",
       "    </tr>\n",
       "    <tr>\n",
       "      <th>2</th>\n",
       "      <td>2595</td>\n",
       "      <td>Skylit Midtown Castle</td>\n",
       "      <td>2845</td>\n",
       "      <td>Jennifer</td>\n",
       "      <td>Manhattan</td>\n",
       "      <td>Midtown</td>\n",
       "      <td>40.75362</td>\n",
       "      <td>-73.98377</td>\n",
       "      <td>Entire home/apt</td>\n",
       "      <td>225</td>\n",
       "      <td>1</td>\n",
       "      <td>45</td>\n",
       "      <td>2019-05-21</td>\n",
       "      <td>0.38</td>\n",
       "      <td>2</td>\n",
       "      <td>355</td>\n",
       "    </tr>\n",
       "    <tr>\n",
       "      <th>4</th>\n",
       "      <td>3831</td>\n",
       "      <td>Cozy Entire Floor of Brownstone</td>\n",
       "      <td>4869</td>\n",
       "      <td>LisaRoxanne</td>\n",
       "      <td>Brooklyn</td>\n",
       "      <td>Clinton Hill</td>\n",
       "      <td>40.68514</td>\n",
       "      <td>-73.95976</td>\n",
       "      <td>Entire home/apt</td>\n",
       "      <td>89</td>\n",
       "      <td>1</td>\n",
       "      <td>270</td>\n",
       "      <td>2019-07-05</td>\n",
       "      <td>4.64</td>\n",
       "      <td>1</td>\n",
       "      <td>194</td>\n",
       "    </tr>\n",
       "    <tr>\n",
       "      <th>5</th>\n",
       "      <td>5022</td>\n",
       "      <td>Entire Apt: Spacious Studio/Loft by central park</td>\n",
       "      <td>7192</td>\n",
       "      <td>Laura</td>\n",
       "      <td>Manhattan</td>\n",
       "      <td>East Harlem</td>\n",
       "      <td>40.79851</td>\n",
       "      <td>-73.94399</td>\n",
       "      <td>Entire home/apt</td>\n",
       "      <td>80</td>\n",
       "      <td>10</td>\n",
       "      <td>9</td>\n",
       "      <td>2018-11-19</td>\n",
       "      <td>0.10</td>\n",
       "      <td>1</td>\n",
       "      <td>0</td>\n",
       "    </tr>\n",
       "    <tr>\n",
       "      <th>6</th>\n",
       "      <td>5099</td>\n",
       "      <td>Large Cozy 1 BR Apartment In Midtown East</td>\n",
       "      <td>7322</td>\n",
       "      <td>Chris</td>\n",
       "      <td>Manhattan</td>\n",
       "      <td>Murray Hill</td>\n",
       "      <td>40.74767</td>\n",
       "      <td>-73.975</td>\n",
       "      <td>Entire home/apt</td>\n",
       "      <td>200</td>\n",
       "      <td>3</td>\n",
       "      <td>74</td>\n",
       "      <td>2019-06-22</td>\n",
       "      <td>0.59</td>\n",
       "      <td>1</td>\n",
       "      <td>129</td>\n",
       "    </tr>\n",
       "  </tbody>\n",
       "</table>\n",
       "</div>"
      ],
      "text/plain": [
       "0    id                                              name host_id  \\\n",
       "1  2539                Clean & quiet apt home by the park    2787   \n",
       "2  2595                             Skylit Midtown Castle    2845   \n",
       "4  3831                   Cozy Entire Floor of Brownstone    4869   \n",
       "5  5022  Entire Apt: Spacious Studio/Loft by central park    7192   \n",
       "6  5099         Large Cozy 1 BR Apartment In Midtown East    7322   \n",
       "\n",
       "0    host_name neighbourhood_group neighbourhood  latitude  longitude  \\\n",
       "1         John            Brooklyn    Kensington  40.64749  -73.97237   \n",
       "2     Jennifer           Manhattan       Midtown  40.75362  -73.98377   \n",
       "4  LisaRoxanne            Brooklyn  Clinton Hill  40.68514  -73.95976   \n",
       "5        Laura           Manhattan   East Harlem  40.79851  -73.94399   \n",
       "6        Chris           Manhattan   Murray Hill  40.74767    -73.975   \n",
       "\n",
       "0        room_type price minimum_nights number_of_reviews last_review  \\\n",
       "1     Private room   149              1                 9  2018-10-19   \n",
       "2  Entire home/apt   225              1                45  2019-05-21   \n",
       "4  Entire home/apt    89              1               270  2019-07-05   \n",
       "5  Entire home/apt    80             10                 9  2018-11-19   \n",
       "6  Entire home/apt   200              3                74  2019-06-22   \n",
       "\n",
       "0 reviews_per_month calculated_host_listings_count availability_365  \n",
       "1              0.21                              6              365  \n",
       "2              0.38                              2              355  \n",
       "4              4.64                              1              194  \n",
       "5              0.10                              1                0  \n",
       "6              0.59                              1              129  "
      ]
     },
     "execution_count": 7,
     "metadata": {},
     "output_type": "execute_result"
    }
   ],
   "source": [
    "df = pd.read_csv('AB_NYC_2019.csv',\n",
    "                na_values='?',header=None)\n",
    "df.columns = df.iloc[0]\n",
    "df = df[1:]\n",
    "df = df.dropna()\n",
    "df.head()"
   ]
  },
  {
   "cell_type": "code",
   "execution_count": 147,
   "metadata": {},
   "outputs": [],
   "source": [
    "xnames = ['neighbourhood_group','latitude','longitude','room_type','price',\n",
    "         'minimum_nights','availability_365']\n",
    "X = np.array(df[xnames])\n",
    "#X = np.concatenate((np.ones((Xraw.shape[0],1)),Xraw),axis=1)\n",
    "y = np.array(df['number_of_reviews'])\n",
    "y = y.astype(int)\n",
    "# Convert neighborhood to Brooklyn-0, Manhattan-1, Others-2\n",
    "neighbourhood_group = X[:,0]\n",
    "for i in range(len(neighbourhood_group)):\n",
    "    if neighbourhood_group[i] == \"Brooklyn\":\n",
    "        neighbourhood_group[i] = 0\n",
    "    elif neighbourhood_group[i] == \"Manhattan\":\n",
    "        neighbourhood_group[i] = 1\n",
    "    else:\n",
    "        neighbourhood_group[i] = 2\n",
    "\n",
    "# Convert room_type: Private room-0, Entire home/apt-1\n",
    "room_type = X[:,3]\n",
    "PRI_VAL = \"Private room\"\n",
    "ENT_VAL = \"Entire home/apt\"\n",
    "for i in range(len(room_type)):\n",
    "    if room_type[i] == PRI_VAL:\n",
    "        room_type[i] = 0\n",
    "    elif room_type[i] == ENT_VAL:\n",
    "        room_type[i] = 1\n",
    "    else:\n",
    "        room_type[i] = 2\n",
    "X[:,1] = X[:,1].astype(float)\n",
    "X[:,1] = X[:,1].astype(int)\n",
    "X[:,2] = X[:,2].astype(float)\n",
    "X[:,2] = X[:,2].astype(int)\n",
    "X[:,4] = X[:,4].astype(int)\n",
    "X[:,5] = X[:,5].astype(int)\n",
    "X[:,6] = X[:,6].astype(int)"
   ]
  },
  {
   "cell_type": "markdown",
   "metadata": {},
   "source": [
    "# Split data into a training and test set with a ratio of 2/3 - 1/3"
   ]
  },
  {
   "cell_type": "code",
   "execution_count": 148,
   "metadata": {},
   "outputs": [
    {
     "data": {
      "text/plain": [
       "matrix([[  0,  40, -73,   1,  60,   2, 300]])"
      ]
     },
     "execution_count": 148,
     "metadata": {},
     "output_type": "execute_result"
    }
   ],
   "source": [
    "nt = len(X)\n",
    "ind_lst = np.random.permutation(nt)\n",
    "\n",
    "ntr = len(ind_lst) * 2//3\n",
    "ntr_lst = ind_lst[:ntr]\n",
    "nts = len(ind_lst) - ntr\n",
    "nts_lst = ind_lst[ntr:]\n",
    "\n",
    "Xtr = np.matrix(X[[ntr_lst]], dtype='int')\n",
    "Xts = np.matrix(X[[nts_lst]], dtype='int')\n",
    "ytr = y[ntr_lst]\n",
    "yts = y[nts_lst]\n",
    "Xtr[0]\n"
   ]
  },
  {
   "cell_type": "markdown",
   "metadata": {},
   "source": [
    "# Fit a Linear Model"
   ]
  },
  {
   "cell_type": "code",
   "execution_count": 149,
   "metadata": {},
   "outputs": [],
   "source": [
    "def fit_mult_linear(X,y):\n",
    "    \"\"\"\n",
    "    Given matrix of predictors X and target vector y fit for a multiple linear regression model under the squared loss.\n",
    "    \"\"\"\n",
    "    # TODO complete the following code\n",
    "    nsamp = len(X)\n",
    "    ones = np.ones((nsamp,1))\n",
    "    X_orig = X\n",
    "    X = np.hstack((ones,X_orig))\n",
    "    Xmat=np.matrix(X)\n",
    "    ymat=np.matrix(y)\n",
    "    ymat=np.transpose(ymat)\n",
    "    Xmatt=np.transpose(Xmat)\n",
    "    beta=np.linalg.inv(Xmatt*Xmat)*Xmatt*ymat\n",
    "    return beta"
   ]
  },
  {
   "cell_type": "code",
   "execution_count": 156,
   "metadata": {},
   "outputs": [],
   "source": [
    "beta_lst = fit_mult_linear(Xtr, ytr)\n",
    "beta0 = beta_lst[0]\n",
    "beta1 = beta_lst[1:]"
   ]
  },
  {
   "cell_type": "code",
   "execution_count": 160,
   "metadata": {},
   "outputs": [
    {
     "name": "stdout",
     "output_type": "stream",
     "text": [
      "multiple variable loss=1.00e+08\n"
     ]
    },
    {
     "data": {
      "image/png": "[encoded data removed]",
      "text/plain": [
       "<Figure size 432x288 with 1 Axes>"
      ]
     },
     "metadata": {},
     "output_type": "display_data"
    }
   ],
   "source": [
    "nsamp = len(Xtr)\n",
    "ones = np.ones((nsamp,1))\n",
    "X_orig = Xtr\n",
    "X = np.hstack((ones,X_orig))\n",
    "Xmat=np.matrix(X)\n",
    "ymat=np.matrix(ytr)\n",
    "ymat=np.transpose(ymat)\n",
    "\n",
    "ytr_pred = Xmat*beta_lst\n",
    "lossm = np.linalg.norm(np.array(ymat - ytr_pred))**2\n",
    "\n",
    "print(\"multiple variable loss=\"+\"{:.2e}\".format(lossm))\n",
    "#plt.plot(X[:,1],ytr_pred,'-')  # Plot the regression line (the predicted values)                \n",
    "#plt.plot(X[:,1],ytr,'-') # Plot the data points\n",
    "#plt.xlabel('X')\n",
    "#plt.ylabel('ytrain')\n",
    "#plt.legend(['ytrain_pred', 'ytrain'])\n",
    "plt.grid(True)"
   ]
  },
  {
   "cell_type": "code",
   "execution_count": null,
   "metadata": {},
   "outputs": [],
   "source": []
  }
 ],
 "metadata": {
  "kernelspec": {
   "display_name": "Python 3",
   "language": "python",
   "name": "python3"
  },
  "language_info": {
   "codemirror_mode": {
    "name": "ipython",
    "version": 3
   },
   "file_extension": ".py",
   "mimetype": "text/x-python",
   "name": "python",
   "nbconvert_exporter": "python",
   "pygments_lexer": "ipython3",
   "version": "3.6.5"
  }
 },
 "nbformat": 4,
 "nbformat_minor": 2
}
